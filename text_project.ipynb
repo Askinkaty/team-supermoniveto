{
 "cells": [
  {
   "cell_type": "markdown",
   "metadata": {},
   "source": [
    "# DATA20001 Deep Learning - Group Project\n",
    "## Text project\n",
    "\n",
    "**Due Wednesday December 13, before 23:59.**\n",
    "\n",
    "The task is to learn to assign the correct labels to news articles.  The corpus contains ~850K articles from Reuters.  The test set is about 10% of the articles. The data is unextracted in XML files.\n",
    "\n",
    "We're only giving you the code for downloading the data, and how to save the final model. The rest you'll have to do yourselves.\n",
    "\n",
    "Some comments and hints particular to the project:\n",
    "\n",
    "- One document may belong to many classes in this problem, i.e., it's a multi-label classification problem. In fact there are documents that don't belong to any class, and you should also be able to handle these correctly. Pay careful attention to how you design the outputs of the network (e.g., what activation to use) and what loss function should be used.\n",
    "- You may use word-embeddings to get better results. For example, you were already using a smaller version of the GloVE  embeddings in exercise 4. Do note that these embeddings take a lot of memory, but if you use the keras.embedding layer, it will be more efficient. \n",
    "- Loading all documents into one big matrix as we have done in the exercises is not feasible (e.g. the virtual servers in CSC have only 3 GB of RAM). You need to load the documents in smaller chunks for the training. This shouldn't be a problem, as we are doing mini-batch training anyway, and thus we don't need to keep all the documents in memory. You can simply pass you current chunk of documents to `model.fit()` as it remembers the weights from the previous run.\n"
   ]
  },
  {
   "cell_type": "markdown",
   "metadata": {},
   "source": [
    "## Download the data"
   ]
  },
  {
   "cell_type": "code",
   "execution_count": 1,
   "metadata": {},
   "outputs": [
    {
     "name": "stderr",
     "output_type": "stream",
     "text": [
      "Using TensorFlow backend.\n",
      "/Users/DJKesoil/Opiskelu/deep/lib/python3.6/importlib/_bootstrap.py:205: RuntimeWarning: compiletime version 3.5 of module 'tensorflow.python.framework.fast_tensor_util' does not match runtime version 3.6\n",
      "  return f(*args, **kwds)\n"
     ]
    },
    {
     "name": "stdout",
     "output_type": "stream",
     "text": [
      "Downloading data from https://www.cs.helsinki.fi/u/jgpyykko/reuters.zip\n",
      "384229376/384224243 [==============================] - 50s 0us/step\n",
      "\n",
      "\n",
      "Unzipping data...\n",
      "Data set unzipped.\n"
     ]
    }
   ],
   "source": [
    "from keras.utils.data_utils import get_file\n",
    "import os\n",
    "import zipfile\n",
    "import itertools\n",
    "from collections import Counter\n",
    "\n",
    "\n",
    "database_path = 'train/'\n",
    "corpus_path = database_path + 'REUTERS_CORPUS_2/'\n",
    "data_path = corpus_path + 'data/'\n",
    "codes_path = corpus_path + 'codes/'\n",
    "\n",
    "if not os.path.exists(database_path):\n",
    "    dl_file='reuters.zip'\n",
    "    dl_url='https://www.cs.helsinki.fi/u/jgpyykko/'\n",
    "    get_file(dl_file, dl_url+dl_file, cache_dir='./', cache_subdir=database_path, extract=True)\n",
    "else:\n",
    "    print('Data set already downloaded.')\n",
    "\n",
    "if not os.path.exists(data_path):\n",
    "    print('\\n\\nUnzipping data...')\n",
    "    \n",
    "    codes_zip = corpus_path + 'codes.zip'\n",
    "    with zipfile.ZipFile(codes_zip, 'r') as zip_ref:\n",
    "        zip_ref.extractall(codes_path)\n",
    "    os.remove(codes_zip)\n",
    "   \n",
    "    dtds_zip = corpus_path + 'dtds.zip'\n",
    "    with zipfile.ZipFile(dtds_zip, 'r') as zip_ref:\n",
    "        zip_ref.extractall(corpus_path + 'dtds/')\n",
    "    os.remove(dtds_zip)\n",
    "    \n",
    "    for item in os.listdir(corpus_path): \n",
    "        if item.endswith('zip'):\n",
    "            file_name = corpus_path + item \n",
    "            with zipfile.ZipFile(file_name, 'r') as zip_ref:\n",
    "                zip_ref.extractall(data_path)\n",
    "            os.remove(file_name) \n",
    "    \n",
    "    print('Data set unzipped.')\n",
    "else:\n",
    "    print('\\nData set already unzipped.')"
   ]
  },
  {
   "cell_type": "markdown",
   "metadata": {},
   "source": [
    "The above command downloads and extracts the data files into the `train` subdirectory.\n",
    "\n",
    "The files can be found in `train/`, and are named as `19970405.zip`, etc. You will have to manage the content of these zips to get the data. There is a readme which has links to further descriptions on the data.\n",
    "\n",
    "The class labels, or topics, can be found in the readme file called `train/codes.zip`.  The zip contains a file called \"topic_codes.txt\".  This file contains the special codes for the topics (about 130 of them), and the explanation - what each code means.  \n",
    "\n",
    "The XML document files contain the article's headline, the main body text, and the list of topic labels assigned to each article.  You will have to extract the topics of each article from the XML.  For example: \n",
    "&lt;code code=\"C18\"&gt; refers to the topic \"OWNERSHIP CHANGES\" (like a corporate buyout).\n",
    "\n",
    "You should pre-process the XML to extract the words from the article: the &lt;headline&gt; element and the &lt;text&gt;.  You should not need any other parts of the article."
   ]
  },
  {
   "cell_type": "markdown",
   "metadata": {},
   "source": [
    "## Preprocessing the data\n",
    "First we will read the codes into the dictionary:"
   ]
  },
  {
   "cell_type": "code",
   "execution_count": 2,
   "metadata": {},
   "outputs": [
    {
     "name": "stdout",
     "output_type": "stream",
     "text": [
      "1POL  :  CURRENT NEWS - POLITICS\n",
      "2ECO  :  CURRENT NEWS - ECONOMICS\n",
      "3SPO  :  CURRENT NEWS - SPORT\n",
      "4GEN  :  CURRENT NEWS - GENERAL\n",
      "6INS  :  CURRENT NEWS - INSURANCE\n",
      "7RSK  :  CURRENT NEWS - RISK NEWS\n",
      "8YDB  :  TEMPORARY\n",
      "9BNX  :  TEMPORARY\n",
      "ADS10  :  CURRENT NEWS - ADVERTISING\n",
      "BNW14  :  CURRENT NEWS - BUSINESS NEWS\n",
      "BRP11  :  CURRENT NEWS - BRANDS\n",
      "C11  :  STRATEGY/PLANS\n",
      "C12  :  LEGAL/JUDICIAL\n",
      "C13  :  REGULATION/POLICY\n",
      "C14  :  SHARE LISTINGS\n",
      "C15  :  PERFORMANCE\n",
      "C151  :  ACCOUNTS/EARNINGS\n",
      "C1511  :  ANNUAL RESULTS\n",
      "C152  :  COMMENT/FORECASTS\n",
      "C16  :  INSOLVENCY/LIQUIDITY\n",
      "C17  :  FUNDING/CAPITAL\n",
      "C171  :  SHARE CAPITAL\n",
      "C172  :  BONDS/DEBT ISSUES\n",
      "C173  :  LOANS/CREDITS\n",
      "C174  :  CREDIT RATINGS\n",
      "C18  :  OWNERSHIP CHANGES\n",
      "C181  :  MERGERS/ACQUISITIONS\n",
      "C182  :  ASSET TRANSFERS\n",
      "C183  :  PRIVATISATIONS\n",
      "C21  :  PRODUCTION/SERVICES\n",
      "C22  :  NEW PRODUCTS/SERVICES\n",
      "C23  :  RESEARCH/DEVELOPMENT\n",
      "C24  :  CAPACITY/FACILITIES\n",
      "C31  :  MARKETS/MARKETING\n",
      "C311  :  DOMESTIC MARKETS\n",
      "C312  :  EXTERNAL MARKETS\n",
      "C313  :  MARKET SHARE\n",
      "C32  :  ADVERTISING/PROMOTION\n",
      "C33  :  CONTRACTS/ORDERS\n",
      "C331  :  DEFENCE CONTRACTS\n",
      "C34  :  MONOPOLIES/COMPETITION\n",
      "C41  :  MANAGEMENT\n",
      "C411  :  MANAGEMENT MOVES\n",
      "C42  :  LABOUR\n",
      "CCAT  :  CORPORATE/INDUSTRIAL\n",
      "E11  :  ECONOMIC PERFORMANCE\n",
      "E12  :  MONETARY/ECONOMIC\n",
      "E121  :  MONEY SUPPLY\n",
      "E13  :  INFLATION/PRICES\n",
      "E131  :  CONSUMER PRICES\n",
      "E132  :  WHOLESALE PRICES\n",
      "E14  :  CONSUMER FINANCE\n",
      "E141  :  PERSONAL INCOME\n",
      "E142  :  CONSUMER CREDIT\n",
      "E143  :  RETAIL SALES\n",
      "E21  :  GOVERNMENT FINANCE\n",
      "E211  :  EXPENDITURE/REVENUE\n",
      "E212  :  GOVERNMENT BORROWING\n",
      "E31  :  OUTPUT/CAPACITY\n",
      "E311  :  INDUSTRIAL PRODUCTION\n",
      "E312  :  CAPACITY UTILIZATION\n",
      "E313  :  INVENTORIES\n",
      "E41  :  EMPLOYMENT/LABOUR\n",
      "E411  :  UNEMPLOYMENT\n",
      "E51  :  TRADE/RESERVES\n",
      "E511  :  BALANCE OF PAYMENTS\n",
      "E512  :  MERCHANDISE TRADE\n",
      "E513  :  RESERVES\n",
      "E61  :  HOUSING STARTS\n",
      "E71  :  LEADING INDICATORS\n",
      "ECAT  :  ECONOMICS\n",
      "ENT12  :  CURRENT NEWS - ENTERTAINMENT\n",
      "G11  :  SOCIAL AFFAIRS\n",
      "G111  :  HEALTH/SAFETY\n",
      "G112  :  SOCIAL SECURITY\n",
      "G113  :  EDUCATION/RESEARCH\n",
      "G12  :  INTERNAL POLITICS\n",
      "G13  :  INTERNATIONAL RELATIONS\n",
      "G131  :  DEFENCE\n",
      "G14  :  ENVIRONMENT\n",
      "G15  :  EUROPEAN COMMUNITY\n",
      "G151  :  EC INTERNAL MARKET\n",
      "G152  :  EC CORPORATE POLICY\n",
      "G153  :  EC AGRICULTURE POLICY\n",
      "G154  :  EC MONETARY/ECONOMIC\n",
      "G155  :  EC INSTITUTIONS\n",
      "G156  :  EC ENVIRONMENT ISSUES\n",
      "G157  :  EC COMPETITION/SUBSIDY\n",
      "G158  :  EC EXTERNAL RELATIONS\n",
      "G159  :  EC GENERAL\n",
      "GCAT  :  GOVERNMENT/SOCIAL\n",
      "GCRIM  :  CRIME, LAW ENFORCEMENT\n",
      "GDEF  :  DEFENCE\n",
      "GDIP  :  INTERNATIONAL RELATIONS\n",
      "GDIS  :  DISASTERS AND ACCIDENTS\n",
      "GEDU  :  EDUCATION\n",
      "GENT  :  ARTS, CULTURE, ENTERTAINMENT\n",
      "GENV  :  ENVIRONMENT AND NATURAL WORLD\n",
      "GFAS  :  FASHION\n",
      "GHEA  :  HEALTH\n",
      "GJOB  :  LABOUR ISSUES\n",
      "GMIL  :  MILLENNIUM ISSUES\n",
      "GOBIT  :  OBITUARIES\n",
      "GODD  :  HUMAN INTEREST\n",
      "GPOL  :  DOMESTIC POLITICS\n",
      "GPRO  :  BIOGRAPHIES, PERSONALITIES, PEOPLE\n",
      "GREL  :  RELIGION\n",
      "GSCI  :  SCIENCE AND TECHNOLOGY\n",
      "GSPO  :  SPORTS\n",
      "GTOUR  :  TRAVEL AND TOURISM\n",
      "GVIO  :  WAR, CIVIL WAR\n",
      "GVOTE  :  ELECTIONS\n",
      "GWEA  :  WEATHER\n",
      "GWELF  :  WELFARE, SOCIAL SERVICES\n",
      "M11  :  EQUITY MARKETS\n",
      "M12  :  BOND MARKETS\n",
      "M13  :  MONEY MARKETS\n",
      "M131  :  INTERBANK MARKETS\n",
      "M132  :  FOREX MARKETS\n",
      "M14  :  COMMODITY MARKETS\n",
      "M141  :  SOFT COMMODITIES\n",
      "M142  :  METALS TRADING\n",
      "M143  :  ENERGY MARKETS\n",
      "MCAT  :  MARKETS\n",
      "MEUR  :  EURO CURRENCY\n",
      "PRB13  :  CURRENT NEWS - PRESS RELEASE WIRES\n"
     ]
    }
   ],
   "source": [
    "topic_index = {}\n",
    "codes_file = codes_path + 'topic_codes.txt'\n",
    "with open(codes_file) as f:\n",
    "    for line in f:\n",
    "        if not line.startswith(';'):\n",
    "            splits = line.split()\n",
    "            topic_index[splits[0]] = ' '.join(splits[1:len(splits)])\n",
    "\n",
    "for key in topic_index:\n",
    "    print(key, ' : ', topic_index[key])"
   ]
  },
  {
   "cell_type": "markdown",
   "metadata": {},
   "source": [
    "Then we will parse the xml files. Let's first try to parse one file:"
   ]
  },
  {
   "cell_type": "code",
   "execution_count": 3,
   "metadata": {},
   "outputs": [
    {
     "name": "stdout",
     "output_type": "stream",
     "text": [
      "\n",
      "\n",
      "tags:  ['GCAT', 'GVIO'] \n",
      "\n",
      "\n",
      "sentences:  ['Sri Lanka rebels attack government troops in north.', \"Heavy fighting erupted between government troops and Liberation Tigers of Tamil Eelam (LTTE) rebels in Sri Lanka's northern Wanni region late on Friday, military officials said on Saturday.\", \"They said the rebels had attacked the military's defensive positions just north of the government-held town of Vavuniya, some 220 km (135 miles) north of the capital Colombo.\", 'The military, which launched a major offensive in May, is battling rebels in the Wanni to open a strategic highway linking the northern Jaffna peninsula with the rest of the island.', \"The military officials said defences guarded by police and the navy had been breached but troops had linked up again after repulsing Friday's attack.\", 'Casualty figures and other details were not immediately available, but officials said troops were clearing the area.', 'An undisclosed number of wounded had been airlifted to Anuradhapura military base, some 50 km (31 miles) south of Vavuniya, officials said.', 'A Defence Ministry spokesman said in Colombo confirmed the attacks and said the situation was now under control.', 'Residents in Vavuniya said troops were shelling the affected area on Saturday morning.', '\"Shelling is still continuing and helicopters and air force planes are flying by,\" a resident said by phone from Vavuniya.', 'He said the fighting started at about 10.30 p.m. (1630 GMT Friday) and continued through most of the night.', \"The military's northward offensive has slowed since the LTTE launched two fierce counterattacks in June but the fighting has shown signs of escalating this week.\", \"Sri Lanka's Defence Ministry said on Friday that troops had clashed with a large number of LTTE rebels southwest of Nedunkeni town on Thursday.\", 'At least 50 guerrillas and 17 troops, including one officer, was killed in the gunbattle. Troops had called in helicopter gunships to engage the rebels, who fled northwards with their wounded, the statement said.', '\"Sri Lanka forces backed by heavy artillery and moving in battle-tanks and armoured vehicles had attempted a sudden push towards their goal of Puliyankulam, but LTTE forces hit back decisively,\" an LTTE statement said.', \"The LTTE have been fighting for a separate homeland for minority Tamils in Sri Lanka's north and east since 1983.\", 'The government says more than 50,000 people have been killed in the war. The LTTE say the toll is higher.'] \n",
      "\n",
      "\n",
      "Sri Lanka rebels attack government troops in north. \n",
      "\n",
      "Heavy fighting erupted between government troops and Liberation Tigers of Tamil Eelam (LTTE) rebels in Sri Lanka's northern Wanni region late on Friday, military officials said on Saturday. \n",
      "\n",
      "They said the rebels had attacked the military's defensive positions just north of the government-held town of Vavuniya, some 220 km (135 miles) north of the capital Colombo. \n",
      "\n",
      "The military, which launched a major offensive in May, is battling rebels in the Wanni to open a strategic highway linking the northern Jaffna peninsula with the rest of the island. \n",
      "\n",
      "The military officials said defences guarded by police and the navy had been breached but troops had linked up again after repulsing Friday's attack. \n",
      "\n",
      "Casualty figures and other details were not immediately available, but officials said troops were clearing the area. \n",
      "\n",
      "An undisclosed number of wounded had been airlifted to Anuradhapura military base, some 50 km (31 miles) south of Vavuniya, officials said. \n",
      "\n",
      "A Defence Ministry spokesman said in Colombo confirmed the attacks and said the situation was now under control. \n",
      "\n",
      "Residents in Vavuniya said troops were shelling the affected area on Saturday morning. \n",
      "\n",
      "\"Shelling is still continuing and helicopters and air force planes are flying by,\" a resident said by phone from Vavuniya. \n",
      "\n",
      "He said the fighting started at about 10.30 p.m. (1630 GMT Friday) and continued through most of the night. \n",
      "\n",
      "The military's northward offensive has slowed since the LTTE launched two fierce counterattacks in June but the fighting has shown signs of escalating this week. \n",
      "\n",
      "Sri Lanka's Defence Ministry said on Friday that troops had clashed with a large number of LTTE rebels southwest of Nedunkeni town on Thursday. \n",
      "\n",
      "At least 50 guerrillas and 17 troops, including one officer, was killed in the gunbattle. Troops had called in helicopter gunships to engage the rebels, who fled northwards with their wounded, the statement said. \n",
      "\n",
      "\"Sri Lanka forces backed by heavy artillery and moving in battle-tanks and armoured vehicles had attempted a sudden push towards their goal of Puliyankulam, but LTTE forces hit back decisively,\" an LTTE statement said. \n",
      "\n",
      "The LTTE have been fighting for a separate homeland for minority Tamils in Sri Lanka's north and east since 1983. \n",
      "\n",
      "The government says more than 50,000 people have been killed in the war. The LTTE say the toll is higher. \n",
      "\n"
     ]
    }
   ],
   "source": [
    "import xml.etree.ElementTree as etree\n",
    "\n",
    "filename_xml = '810900newsML.xml'\n",
    "file_xml = data_path + filename_xml\n",
    "\n",
    "def read_xml_file(file_xml):\n",
    "    sentences = []\n",
    "    tags = []\n",
    "    read_tags = False\n",
    "    for event, elem in etree.iterparse(file_xml, events=('start', 'end')):\n",
    "        t = elem.tag\n",
    "        idx = k = t.rfind(\"}\")\n",
    "        if idx != -1:\n",
    "            t = t[idx + 1:]\n",
    "        tname = t\n",
    "\n",
    "        if event == 'start':\n",
    "            if tname == 'codes':\n",
    "                if elem.attrib['class'] == 'bip:topics:1.0':\n",
    "                    read_tags = True\n",
    "            if tname == 'code':\n",
    "                if read_tags:\n",
    "                    tags.append(elem.attrib['code'])\n",
    "    \n",
    "        if event == 'end':\n",
    "            if tname == 'headline':\n",
    "                sentences.append(elem.text)\n",
    "            if tname == 'p':\n",
    "                sentences.append(elem.text)\n",
    "            if tname == 'codes':\n",
    "                if elem.attrib['class'] == 'bip:topics:1.0':\n",
    "                    read_tags = False\n",
    "\n",
    "    return [sentences, tags]\n",
    "    \n",
    "(sentences, tags) = read_xml_file(file_xml)\n",
    "\n",
    "print('\\n\\ntags: ', tags, '\\n\\n')\n",
    "print('sentences: ', sentences, '\\n\\n')\n",
    "for i in range(len(sentences)):\n",
    "    print(sentences[i], '\\n')"
   ]
  },
  {
   "cell_type": "markdown",
   "metadata": {},
   "source": [
    "Let's read a small training and test set:"
   ]
  },
  {
   "cell_type": "code",
   "execution_count": 96,
   "metadata": {},
   "outputs": [
    {
     "name": "stdout",
     "output_type": "stream",
     "text": [
      "[['M14', 'M141', 'MCAT'], ['C18', 'C181', 'CCAT'], ['GCAT', 'GCRIM', 'GDIP', 'GVIO']] \n",
      "\n",
      "['Australia says 1997/98 oat prices depend on rain.', 'The Australian Barley Board (ABB) said on Tuesday the Australian domestic market could be expected to have a major effect on oat prices in 1997/98, but just how much would depend on rainfall in spring.', '\"Our pool forecasts have been increased to A$140 per tonne for milling oats (in Victoria, oats number 1), and A$130 for feed oats, although these are still based on export potential,\" ABB chief executive Michael Iwaniw said in a statement.  ', 'Iwaniw said there were many negative factors on oats in the current world market, with a considerable production boost in the United States expected to offset slightly lower oat production in Canada and Sweden.', 'Domestic oat prices were high at present along with all grains in demand for the intensive stockfeed industries, particularly in Victoria, and demand was also evident from the grazing industry for feed grain due to the dry season, he said.  ', '\"If there is not substantial spring rainfall, the likelihood of significant oat exports will be reduced and our oat prices will see more of a domestic focus, which would see pool estimates rise accordingly,\" Iwaniw said.', 'The ABB said deliveries into the standard pool for 1996/97 oats would receive a payment on September 2 of A$12 per tonne, with A$10 per tonne payment in South Australia on feed oats 2 and 3. Deliveries into the 40/40/20 pool would receive A$56 per tonne for milling oats (oats number 1), A$51 for feed oats, and in South Australia A$34 for feed 2 and A$29 for feed 3.', '-- Sydney Newsroom 61-2 9373-1800'] \n",
      "\n",
      "['MDU RESOURCES BUYS HAWAIIAN CEMENT STAKE.', 'MDU Resources Group Inc said Thursday its Knife River Corp unit has purchased from Adelaide Brighton Cement Inc the remaining 50 percent general partnership interest in Hawaiian Cement that it did not own .', 'Financial terms of the deal were not disclosed.', 'Hawaiian Cement, a construction materials supplier, had revenues of $70 million in 1996, MDU said.', 'MDU shares were up 1/16 at 25-1/16.', 'Knife river is the construction materials and mining subsidiary of MDU Resources, which also has oil and natural gas acquisition, exploration and production activities, an electric and natural gas utility and a natural gas transmission company.', '((--Chicago newsdesk, 312-408-8787))'] \n",
      "\n",
      "['Former British POW vows to fight court battle.', \"A British veteran vowed on Monday to fight a court battle against the Japanese government to seek a formal apology and cash compensation for Japan's treatment of prisoners during World War Two.\", '\"I surrendered once to the Japanese. I didn\\'t like it,\" Arthur Titherington, secretary of the Japanese Labour Camp Survivors\\' Association, said.', '\"I will not surrender again,\" he told a news conference in Tokyo.', 'Titherington was representing some 10,000 British prisoners of war at a Tokyo district court.', 'The former POWs are demanding that the Japanese government make an unequivocal apology and pay each $22,000 in cash compensation.', '\"There is no hatred. There is no question of revenge. It is simply a matter of justice,\" the 75-year-old veteran said.', 'Titherington accused the Japanese government of \"sitting back and waiting for a natural solution to the problem\".', '\"The natural solution being the death of people like me,\" he said.', 'More than 12,000 Britons died from disease and starvation in Japanese war camps or in work gangs.', '\"Because of the procrastination of your government, you the ordinary Japanese are invariably refered to, certainly in Britain, with derogatory names, usually the bloody Japanese,\" Titherington said.', '\"Very seldom are you referred to as the Japanese,\" he said.', '\"You are held responsible for something you didn\\'t do,\" he said.'] \n",
      "\n",
      "[['C12', 'C24', 'C33', 'CCAT', 'GCAT', 'GCRIM', 'GPOL'], ['C15', 'C152', 'CCAT', 'M11', 'MCAT'], ['C17', 'C171', 'C18', 'C181', 'CCAT']] \n",
      "\n",
      "['State officials, BP welcome Northstar ruling.', \"State and company officials said Friday they welcomed a summary judgment that rejected a citizen challenge to sweetened lease terms the state set to speed development of British Petroleum's Northstar prospect.\", 'The summary judgment, issued late Thursday by Alaska Superior Court Judge Michael Wolverton, affirmed that the legislature and Knowles administration had followed proper procedures before changing the lease terms for the offshore North Slope field, Assistant Alaska Attorney General Larry Ostrovsky said Friday.', '\"There was a public process, and it\\'s a legitimate proocess for modifying lease terms, on leases that were over 20 years old, to reflect the changes that have occurred,\" Ostrovsky said.', 'A bill passed by the legislature last year, at the urging of Gov. Tony Knowles, removed profit-sharing provisions but increased rates for state royalty payments on the Northstar leases.', 'The leases for the offshore prospect were orginially sold to Amerada Hess in 1979 and 1983. BP Exploration (Alaska) Inc. acquired the leases in 1994, but said the terms, drawn up in a time when oil prices were expected to skyrocket, were prohibitive.', \"Knowles, a Democrat, said Wolverton's ruling affirmed that state officials had protected the public interest in changing Northstar lease terms. The new terms will encouage faster development of the field, boosting state revenues and employment, he said.\", '\"We try and do it right. That\\'s our motto,\" the governor said late Thursday. \"And the court said that we had the right public process and the right public purpose. . .I\\'m glad that they verified the fact that we did cross all the Ts and dot all the Is.\"', 'While Alaskans \"should remain ever vigilant against backroom, sweetheart deals\\' which are against the State\\'s interests,\" there was no evidence of impropriety in last year\\'s Northstar legislation, Wolverton said in his ruling.', 'A pair of Anchorage oil industry critics -- Ray Metcalfe, chairman of a group called the Republican Moderates, and one-time legislative candidate Clyde Baxley -- had sued to stop the deal, saying it violated state law by giving special preference to BP.', 'After the lawsuit was filed, BP postponed Anchorage construction of oil-field modules earmarked for Northstar use.', 'BP spokesman Paul Laird said Friday that, although the company was pleased with the court ruling, it will wait until the appeals process is exhausted or the lawsuit is dropped before restarting the Northstar work.', '\"We\\'re still going to wait until the thing is conclusively resolved until we resume fabrication of the modules,\" he said.', 'The Northstar field holds an estimated 145 million recoverable barrels of light crude. Before the lawsuit was filed, production had been expected to start by 1999.'] \n",
      "\n",
      "['ADR REPORT - European drug companies rebound.', 'American Depositary Receipts (ADRs) in European drug companies were mostly higher on Thursday to highlight New York ADR trade.', '\"There is a bounce in the group because it has gotten so beaten up ... in the last two sessions,\" a trader said.', \"The pharmaceuticals sector has been hit by Morgan Stanley's downgrade of the industry this week to market weight from overweight, and by worries over patent expirations in the United States.  \", 'Glaxo Wellcome Plc rose 5/16 to 39-3/8 and Zeneca Group Plc rose 1-7/8 to 91-7/8.', 'SmithKline Beecham Plc was up 7/16 to 89-1/4 after the company said its cancer drug Hycamtin improved lung cancer symptoms. Pharmacia & Upjohn rose 5/16 to 34-3/4.  ', \"China's Beijing Yanhua Petrochemical Co Ltd  rose 15/16 to 19-3/4, a 12-month high. Korea Electric Power Corp fell 5/16 to 18-7/16 after the utility reported its half-year net profit had fallen 67 percent.\", 'Japanese chip equipment maker Canon Inc rose 7-1/8 to 159-3/8, buoyed by a Tokyo rally in semiconductor-related shares.', 'Although the Dow Jones Industrial Average was up 35 points in late morning trade, Latin American ADRs were subdued because of the recent overall declines in the New York market.  ', '\"Everyone is sitting here watching the New York market,\" a trader said. \"If the U.S. market starts to break out, the Latin American markets will break out too.\"', 'Brazilian telephone company Telebras SA was up 1-13/16 to 135-3/16 and was among the most-active ADRs.', 'Advancers led decliners 255 to 226 among the 814-strong ADR group. The group rose 0.10 percent and volume in late morning was 26 million ADRs.', 'ADRs allow U.S. trade of foreign shares.', '((-- Wall Street desk, (212) 859-1879))'] \n",
      "\n",
      "['Global Industrial authorizes buyback plan.', 'Global Industrial Technologies Inc said on Wednesday that its directors had approved the purchase of up to 10 percent of its outstanding shares.', \"Global Chief Executive J.L. Jackson attributed the repurchase plan to confidence in the outlook for the company's businesses.\"] \n",
      "\n"
     ]
    }
   ],
   "source": [
    "import random\n",
    "\n",
    "random.seed(123)\n",
    "n_train = 3\n",
    "n_test = 3\n",
    "\n",
    "data_list = os.listdir(data_path)\n",
    "n_samples = len(data_list)\n",
    "random_indices = random.sample(range(n_samples), n_train + n_test)\n",
    "\n",
    "train_indices = random_indices[0:n_train]\n",
    "test_indices = random_indices[n_train:(n_train + n_test)]\n",
    "\n",
    "train_list = [data_list[i] for i in train_indices]\n",
    "test_list = [data_list[i] for i in test_indices]\n",
    "\n",
    "news_train = []\n",
    "tags_train = []\n",
    "for file_name in train_list:\n",
    "    file_xml = data_path + file_name \n",
    "    (sentences, tags) = read_xml_file(file_xml)\n",
    "    \n",
    "    news_train.append(sentences)\n",
    "    tags_train.append(tags)\n",
    "\n",
    "print(tags_train[0:3], '\\n')\n",
    "for i in range(3):\n",
    "    print(news_train[i], '\\n')\n",
    "\n",
    "news_test = []\n",
    "tags_test = []\n",
    "for file_name in test_list:\n",
    "    file_xml = data_path + file_name \n",
    "    (sentences, tags) = read_xml_file(file_xml)\n",
    "    \n",
    "    news_test.append(sentences)\n",
    "    tags_test.append(tags)\n",
    "\n",
    "print(tags_test[0:3], '\\n')\n",
    "for i in range(3):\n",
    "    print(news_test[i], '\\n')"
   ]
  },
  {
   "cell_type": "code",
   "execution_count": 98,
   "metadata": {},
   "outputs": [
    {
     "name": "stdout",
     "output_type": "stream",
     "text": [
      "<class 'list'>\n",
      "['Australia says 1997/98 oat prices depend on rain.', 'The Australian Barley Board (ABB) said on Tuesday the Australian domestic market could be expected to have a major effect on oat prices in 1997/98, but just how much would depend on rainfall in spring.', '\"Our pool forecasts have been increased to A$140 per tonne for milling oats (in Victoria, oats number 1), and A$130 for feed oats, although these are still based on export potential,\" ABB chief executive Michael Iwaniw said in a statement.  ', 'Iwaniw said there were many negative factors on oats in the current world market, with a considerable production boost in the United States expected to offset slightly lower oat production in Canada and Sweden.', 'Domestic oat prices were high at present along with all grains in demand for the intensive stockfeed industries, particularly in Victoria, and demand was also evident from the grazing industry for feed grain due to the dry season, he said.  ', '\"If there is not substantial spring rainfall, the likelihood of significant oat exports will be reduced and our oat prices will see more of a domestic focus, which would see pool estimates rise accordingly,\" Iwaniw said.', 'The ABB said deliveries into the standard pool for 1996/97 oats would receive a payment on September 2 of A$12 per tonne, with A$10 per tonne payment in South Australia on feed oats 2 and 3. Deliveries into the 40/40/20 pool would receive A$56 per tonne for milling oats (oats number 1), A$51 for feed oats, and in South Australia A$34 for feed 2 and A$29 for feed 3.', '-- Sydney Newsroom 61-2 9373-1800']\n"
     ]
    }
   ],
   "source": [
    "print(type(news_train[0]))\n",
    "print(news_train[0])"
   ]
  },
  {
   "cell_type": "markdown",
   "metadata": {},
   "source": [
    "Then we will convert the training and test sets into one-hot encoding:"
   ]
  },
  {
   "cell_type": "code",
   "execution_count": 111,
   "metadata": {},
   "outputs": [
    {
     "name": "stdout",
     "output_type": "stream",
     "text": [
      "(3, 309)\n",
      "(3, 309)\n"
     ]
    }
   ],
   "source": [
    "from keras.preprocessing.text import Tokenizer\n",
    "import itertools\n",
    "\n",
    "tokenizer = Tokenizer()\n",
    "words_train = [' '.join(news_item) for news_item in news_train] # concatenate each news item into a single string\n",
    "tokenizer.fit_on_texts(words_train)\n",
    "matrix_train = tokenizer.texts_to_matrix(words_train)\n",
    "\n",
    "words_test = [' '.join(news_item) for news_item in news_test] # concatenate each news item into a single string\n",
    "matrix_test = tokenizer.texts_to_matrix(words_test)\n",
    "\n",
    "\n",
    "print(matrix_train.shape)\n",
    "print(matrix_test.shape)"
   ]
  },
  {
   "cell_type": "code",
   "execution_count": 119,
   "metadata": {},
   "outputs": [
    {
     "name": "stdout",
     "output_type": "stream",
     "text": [
      "['sri', 'lanka', 'rebels', 'attack', 'government', 'troops', 'in', 'north'] \n",
      "\n",
      "['heavy', 'fighting', 'erupted', 'between', 'government', 'troops', 'and', 'liberation', 'tigers', 'of', 'tamil', 'eelam', 'ltte', 'rebels', 'in', 'sri', \"lanka's\", 'northern', 'wanni', 'region', 'late', 'on', 'friday', 'military', 'officials', 'said', 'on', 'saturday'] \n",
      "\n",
      "['they', 'said', 'the', 'rebels', 'had', 'attacked', 'the', \"military's\", 'defensive', 'positions', 'just', 'north', 'of', 'the', 'government', 'held', 'town', 'of', 'vavuniya', 'some', '220', 'km', '135', 'miles', 'north', 'of', 'the', 'capital', 'colombo'] \n",
      "\n",
      "['the', 'military', 'which', 'launched', 'a', 'major', 'offensive', 'in', 'may', 'is', 'battling', 'rebels', 'in', 'the', 'wanni', 'to', 'open', 'a', 'strategic', 'highway', 'linking', 'the', 'northern', 'jaffna', 'peninsula', 'with', 'the', 'rest', 'of', 'the', 'island'] \n",
      "\n",
      "['the', 'military', 'officials', 'said', 'defences', 'guarded', 'by', 'police', 'and', 'the', 'navy', 'had', 'been', 'breached', 'but', 'troops', 'had', 'linked', 'up', 'again', 'after', 'repulsing', \"friday's\", 'attack'] \n",
      "\n",
      "['casualty', 'figures', 'and', 'other', 'details', 'were', 'not', 'immediately', 'available', 'but', 'officials', 'said', 'troops', 'were', 'clearing', 'the', 'area'] \n",
      "\n",
      "['an', 'undisclosed', 'number', 'of', 'wounded', 'had', 'been', 'airlifted', 'to', 'anuradhapura', 'military', 'base', 'some', '50', 'km', '31', 'miles', 'south', 'of', 'vavuniya', 'officials', 'said'] \n",
      "\n",
      "['a', 'defence', 'ministry', 'spokesman', 'said', 'in', 'colombo', 'confirmed', 'the', 'attacks', 'and', 'said', 'the', 'situation', 'was', 'now', 'under', 'control'] \n",
      "\n",
      "['residents', 'in', 'vavuniya', 'said', 'troops', 'were', 'shelling', 'the', 'affected', 'area', 'on', 'saturday', 'morning'] \n",
      "\n",
      "['shelling', 'is', 'still', 'continuing', 'and', 'helicopters', 'and', 'air', 'force', 'planes', 'are', 'flying', 'by', 'a', 'resident', 'said', 'by', 'phone', 'from', 'vavuniya'] \n",
      "\n",
      "['he', 'said', 'the', 'fighting', 'started', 'at', 'about', '10', '30', 'p', 'm', '1630', 'gmt', 'friday', 'and', 'continued', 'through', 'most', 'of', 'the', 'night'] \n",
      "\n",
      "['the', \"military's\", 'northward', 'offensive', 'has', 'slowed', 'since', 'the', 'ltte', 'launched', 'two', 'fierce', 'counterattacks', 'in', 'june', 'but', 'the', 'fighting', 'has', 'shown', 'signs', 'of', 'escalating', 'this', 'week'] \n",
      "\n",
      "['sri', \"lanka's\", 'defence', 'ministry', 'said', 'on', 'friday', 'that', 'troops', 'had', 'clashed', 'with', 'a', 'large', 'number', 'of', 'ltte', 'rebels', 'southwest', 'of', 'nedunkeni', 'town', 'on', 'thursday'] \n",
      "\n",
      "['at', 'least', '50', 'guerrillas', 'and', '17', 'troops', 'including', 'one', 'officer', 'was', 'killed', 'in', 'the', 'gunbattle', 'troops', 'had', 'called', 'in', 'helicopter', 'gunships', 'to', 'engage', 'the', 'rebels', 'who', 'fled', 'northwards', 'with', 'their', 'wounded', 'the', 'statement', 'said'] \n",
      "\n",
      "['sri', 'lanka', 'forces', 'backed', 'by', 'heavy', 'artillery', 'and', 'moving', 'in', 'battle', 'tanks', 'and', 'armoured', 'vehicles', 'had', 'attempted', 'a', 'sudden', 'push', 'towards', 'their', 'goal', 'of', 'puliyankulam', 'but', 'ltte', 'forces', 'hit', 'back', 'decisively', 'an', 'ltte', 'statement', 'said'] \n",
      "\n",
      "['the', 'ltte', 'have', 'been', 'fighting', 'for', 'a', 'separate', 'homeland', 'for', 'minority', 'tamils', 'in', 'sri', \"lanka's\", 'north', 'and', 'east', 'since', '1983'] \n",
      "\n",
      "['the', 'government', 'says', 'more', 'than', '50', '000', 'people', 'have', 'been', 'killed', 'in', 'the', 'war', 'the', 'ltte', 'say', 'the', 'toll', 'is', 'higher'] \n",
      "\n",
      "\n",
      "\n",
      " Counter({'the': 28, 'said': 13, 'in': 12, 'of': 12, 'and': 11, 'troops': 8, 'ltte': 7, 'had': 7, 'a': 7, 'rebels': 6, 'sri': 5, 'on': 5, 'government': 4, 'north': 4, 'fighting': 4, 'military': 4, 'officials': 4, 'vavuniya': 4, 'by': 4, 'been': 4, 'but': 4, \"lanka's\": 3, 'friday': 3, 'is': 3, 'to': 3, 'with': 3, 'were': 3, '50': 3, 'lanka': 2, 'attack': 2, 'heavy': 2, 'northern': 2, 'wanni': 2, 'saturday': 2, \"military's\": 2, 'town': 2, 'some': 2, 'km': 2, 'miles': 2, 'colombo': 2, 'launched': 2, 'offensive': 2, 'area': 2, 'an': 2, 'number': 2, 'wounded': 2, 'defence': 2, 'ministry': 2, 'was': 2, 'shelling': 2, 'at': 2, 'has': 2, 'since': 2, 'killed': 2, 'their': 2, 'statement': 2, 'forces': 2, 'have': 2, 'for': 2, 'erupted': 1, 'between': 1, 'liberation': 1, 'tigers': 1, 'tamil': 1, 'eelam': 1, 'region': 1, 'late': 1, 'they': 1, 'attacked': 1, 'defensive': 1, 'positions': 1, 'just': 1, 'held': 1, '220': 1, '135': 1, 'capital': 1, 'which': 1, 'major': 1, 'may': 1, 'battling': 1, 'open': 1, 'strategic': 1, 'highway': 1, 'linking': 1, 'jaffna': 1, 'peninsula': 1, 'rest': 1, 'island': 1, 'defences': 1, 'guarded': 1, 'police': 1, 'navy': 1, 'breached': 1, 'linked': 1, 'up': 1, 'again': 1, 'after': 1, 'repulsing': 1, \"friday's\": 1, 'casualty': 1, 'figures': 1, 'other': 1, 'details': 1, 'not': 1, 'immediately': 1, 'available': 1, 'clearing': 1, 'undisclosed': 1, 'airlifted': 1, 'anuradhapura': 1, 'base': 1, '31': 1, 'south': 1, 'spokesman': 1, 'confirmed': 1, 'attacks': 1, 'situation': 1, 'now': 1, 'under': 1, 'control': 1, 'residents': 1, 'affected': 1, 'morning': 1, 'still': 1, 'continuing': 1, 'helicopters': 1, 'air': 1, 'force': 1, 'planes': 1, 'are': 1, 'flying': 1, 'resident': 1, 'phone': 1, 'from': 1, 'he': 1, 'started': 1, 'about': 1, '10': 1, '30': 1, 'p': 1, 'm': 1, '1630': 1, 'gmt': 1, 'continued': 1, 'through': 1, 'most': 1, 'night': 1, 'northward': 1, 'slowed': 1, 'two': 1, 'fierce': 1, 'counterattacks': 1, 'june': 1, 'shown': 1, 'signs': 1, 'escalating': 1, 'this': 1, 'week': 1, 'that': 1, 'clashed': 1, 'large': 1, 'southwest': 1, 'nedunkeni': 1, 'thursday': 1, 'least': 1, 'guerrillas': 1, '17': 1, 'including': 1, 'one': 1, 'officer': 1, 'gunbattle': 1, 'called': 1, 'helicopter': 1, 'gunships': 1, 'engage': 1, 'who': 1, 'fled': 1, 'northwards': 1, 'backed': 1, 'artillery': 1, 'moving': 1, 'battle': 1, 'tanks': 1, 'armoured': 1, 'vehicles': 1, 'attempted': 1, 'sudden': 1, 'push': 1, 'towards': 1, 'goal': 1, 'puliyankulam': 1, 'hit': 1, 'back': 1, 'decisively': 1, 'separate': 1, 'homeland': 1, 'minority': 1, 'tamils': 1, 'east': 1, '1983': 1, 'says': 1, 'more': 1, 'than': 1, '000': 1, 'people': 1, 'war': 1, 'say': 1, 'toll': 1, 'higher': 1})\n",
      "\n",
      "\n",
      " ['000', '10', '135', '1630', '17', '1983', '220', '30', '31', '50', 'a', 'about', 'affected', 'after', 'again', 'air', 'airlifted', 'an', 'and', 'anuradhapura', 'are', 'area', 'armoured', 'artillery', 'at', 'attack', 'attacked', 'attacks', 'attempted', 'available', 'back', 'backed', 'base', 'battle', 'battling', 'been', 'between', 'breached', 'but', 'by', 'called', 'capital', 'casualty', 'clashed', 'clearing', 'colombo', 'confirmed', 'continued', 'continuing', 'control', 'counterattacks', 'decisively', 'defence', 'defences', 'defensive', 'details', 'east', 'eelam', 'engage', 'erupted', 'escalating', 'fierce', 'fighting', 'figures', 'fled', 'flying', 'for', 'force', 'forces', 'friday', \"friday's\", 'from', 'gmt', 'goal', 'government', 'guarded', 'guerrillas', 'gunbattle', 'gunships', 'had', 'has', 'have', 'he', 'heavy', 'held', 'helicopter', 'helicopters', 'higher', 'highway', 'hit', 'homeland', 'immediately', 'in', 'including', 'is', 'island', 'jaffna', 'june', 'just', 'killed', 'km', 'lanka', \"lanka's\", 'large', 'late', 'launched', 'least', 'liberation', 'linked', 'linking', 'ltte', 'm', 'major', 'may', 'miles', 'military', \"military's\", 'ministry', 'minority', 'more', 'morning', 'most', 'moving', 'navy', 'nedunkeni', 'night', 'north', 'northern', 'northward', 'northwards', 'not', 'now', 'number', 'of', 'offensive', 'officer', 'officials', 'on', 'one', 'open', 'other', 'p', 'peninsula', 'people', 'phone', 'planes', 'police', 'positions', 'puliyankulam', 'push', 'rebels', 'region', 'repulsing', 'resident', 'residents', 'rest', 'said', 'saturday', 'say', 'says', 'separate', 'shelling', 'shown', 'signs', 'since', 'situation', 'slowed', 'some', 'south', 'southwest', 'spokesman', 'sri', 'started', 'statement', 'still', 'strategic', 'sudden', 'tamil', 'tamils', 'tanks', 'than', 'that', 'the', 'their', 'they', 'this', 'through', 'thursday', 'tigers', 'to', 'toll', 'towards', 'town', 'troops', 'two', 'under', 'undisclosed', 'up', 'vavuniya', 'vehicles', 'wanni', 'war', 'was', 'week', 'were', 'which', 'who', 'with', 'wounded']\n",
      "\n",
      "\n",
      " {'000': 0, '10': 1, '135': 2, '1630': 3, '17': 4, '1983': 5, '220': 6, '30': 7, '31': 8, '50': 9, 'a': 10, 'about': 11, 'affected': 12, 'after': 13, 'again': 14, 'air': 15, 'airlifted': 16, 'an': 17, 'and': 18, 'anuradhapura': 19, 'are': 20, 'area': 21, 'armoured': 22, 'artillery': 23, 'at': 24, 'attack': 25, 'attacked': 26, 'attacks': 27, 'attempted': 28, 'available': 29, 'back': 30, 'backed': 31, 'base': 32, 'battle': 33, 'battling': 34, 'been': 35, 'between': 36, 'breached': 37, 'but': 38, 'by': 39, 'called': 40, 'capital': 41, 'casualty': 42, 'clashed': 43, 'clearing': 44, 'colombo': 45, 'confirmed': 46, 'continued': 47, 'continuing': 48, 'control': 49, 'counterattacks': 50, 'decisively': 51, 'defence': 52, 'defences': 53, 'defensive': 54, 'details': 55, 'east': 56, 'eelam': 57, 'engage': 58, 'erupted': 59, 'escalating': 60, 'fierce': 61, 'fighting': 62, 'figures': 63, 'fled': 64, 'flying': 65, 'for': 66, 'force': 67, 'forces': 68, 'friday': 69, \"friday's\": 70, 'from': 71, 'gmt': 72, 'goal': 73, 'government': 74, 'guarded': 75, 'guerrillas': 76, 'gunbattle': 77, 'gunships': 78, 'had': 79, 'has': 80, 'have': 81, 'he': 82, 'heavy': 83, 'held': 84, 'helicopter': 85, 'helicopters': 86, 'higher': 87, 'highway': 88, 'hit': 89, 'homeland': 90, 'immediately': 91, 'in': 92, 'including': 93, 'is': 94, 'island': 95, 'jaffna': 96, 'june': 97, 'just': 98, 'killed': 99, 'km': 100, 'lanka': 101, \"lanka's\": 102, 'large': 103, 'late': 104, 'launched': 105, 'least': 106, 'liberation': 107, 'linked': 108, 'linking': 109, 'ltte': 110, 'm': 111, 'major': 112, 'may': 113, 'miles': 114, 'military': 115, \"military's\": 116, 'ministry': 117, 'minority': 118, 'more': 119, 'morning': 120, 'most': 121, 'moving': 122, 'navy': 123, 'nedunkeni': 124, 'night': 125, 'north': 126, 'northern': 127, 'northward': 128, 'northwards': 129, 'not': 130, 'now': 131, 'number': 132, 'of': 133, 'offensive': 134, 'officer': 135, 'officials': 136, 'on': 137, 'one': 138, 'open': 139, 'other': 140, 'p': 141, 'peninsula': 142, 'people': 143, 'phone': 144, 'planes': 145, 'police': 146, 'positions': 147, 'puliyankulam': 148, 'push': 149, 'rebels': 150, 'region': 151, 'repulsing': 152, 'resident': 153, 'residents': 154, 'rest': 155, 'said': 156, 'saturday': 157, 'say': 158, 'says': 159, 'separate': 160, 'shelling': 161, 'shown': 162, 'signs': 163, 'since': 164, 'situation': 165, 'slowed': 166, 'some': 167, 'south': 168, 'southwest': 169, 'spokesman': 170, 'sri': 171, 'started': 172, 'statement': 173, 'still': 174, 'strategic': 175, 'sudden': 176, 'tamil': 177, 'tamils': 178, 'tanks': 179, 'than': 180, 'that': 181, 'the': 182, 'their': 183, 'they': 184, 'this': 185, 'through': 186, 'thursday': 187, 'tigers': 188, 'to': 189, 'toll': 190, 'towards': 191, 'town': 192, 'troops': 193, 'two': 194, 'under': 195, 'undisclosed': 196, 'up': 197, 'vavuniya': 198, 'vehicles': 199, 'wanni': 200, 'war': 201, 'was': 202, 'week': 203, 'were': 204, 'which': 205, 'who': 206, 'with': 207, 'wounded': 208}\n"
     ]
    }
   ],
   "source": [
    "from keras.preprocessing.text import text_to_word_sequence\n",
    "\n",
    "words = []\n",
    "for s in sentences:\n",
    "    words.append(text_to_word_sequence(s))\n",
    "\n",
    "for w in words:\n",
    "    print(w, '\\n')\n",
    "    \n",
    "word_counts = Counter(itertools.chain(*words))\n",
    "print('\\n\\n', word_counts)\n",
    "\n",
    "vocabulary_inv = [x[0] for x in word_counts.most_common()]\n",
    "vocabulary_inv = list(sorted(vocabulary_inv))\n",
    "\n",
    "# Mapping from word to index\n",
    "vocabulary = {x: i for i, x in enumerate(vocabulary_inv)}\n",
    "\n",
    "print('\\n\\n', vocabulary_inv)\n",
    "print('\\n\\n', vocabulary)\n"
   ]
  },
  {
   "cell_type": "markdown",
   "metadata": {},
   "source": [
    "## Save your model\n",
    "\n",
    "Finally, save your best model to the competition and return it as an `h5` file. For example like this."
   ]
  },
  {
   "cell_type": "code",
   "execution_count": null,
   "metadata": {
    "collapsed": true
   },
   "outputs": [],
   "source": [
    "model.save('model.h5')"
   ]
  },
  {
   "cell_type": "markdown",
   "metadata": {},
   "source": [
    "The model file should now be visible in the \"Home\" screen of the jupyter notebooks interface.  There you should be able to select it and press \"download\".\n",
    "\n",
    "## Predict for test set\n",
    "\n",
    "You will be asked to return your predictions a separate test set.  These should be returned as a matrix with one row for each test article.  Each row contains a binary prediction for each label, 1 if it's present in the image, and 0 if not. The order of the labels is the order of the label (topic) codes.\n",
    "\n",
    "An example row could like like this if your system predicts the presense of the second and fourth topic:\n",
    "\n",
    "    0 1 0 1 0 0 0 0 0 0 0 0 0 0 ...\n",
    "    \n",
    "If you have the matrix prepared in `y` (e.g., by calling `y=model.predict(x_test)`) you can use the following function to save it to a text file."
   ]
  },
  {
   "cell_type": "code",
   "execution_count": null,
   "metadata": {
    "collapsed": true
   },
   "outputs": [],
   "source": [
    "np.savetxt('results.txt', y, fmt='%d')"
   ]
  }
 ],
 "metadata": {
  "kernelspec": {
   "display_name": "Python 3",
   "language": "python",
   "name": "python3"
  },
  "language_info": {
   "codemirror_mode": {
    "name": "ipython",
    "version": 3
   },
   "file_extension": ".py",
   "mimetype": "text/x-python",
   "name": "python",
   "nbconvert_exporter": "python",
   "pygments_lexer": "ipython3",
   "version": "3.6.2"
  }
 },
 "nbformat": 4,
 "nbformat_minor": 2
}
