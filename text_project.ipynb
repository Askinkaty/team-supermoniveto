{
 "cells": [
  {
   "cell_type": "markdown",
   "metadata": {},
   "source": [
    "# DATA20001 Deep Learning - Group Project\n",
    "## Text project\n",
    "\n",
    "**Due Wednesday December 13, before 23:59.**\n",
    "\n",
    "The task is to learn to assign the correct labels to news articles.  The corpus contains ~850K articles from Reuters.  The test set is about 10% of the articles. The data is unextracted in XML files.\n",
    "\n",
    "We're only giving you the code for downloading the data, and how to save the final model. The rest you'll have to do yourselves.\n",
    "\n",
    "Some comments and hints particular to the project:\n",
    "\n",
    "- One document may belong to many classes in this problem, i.e., it's a multi-label classification problem. In fact there are documents that don't belong to any class, and you should also be able to handle these correctly. Pay careful attention to how you design the outputs of the network (e.g., what activation to use) and what loss function should be used.\n",
    "- You may use word-embeddings to get better results. For example, you were already using a smaller version of the GloVE  embeddings in exercise 4. Do note that these embeddings take a lot of memory, but if you use the keras.embedding layer, it will be more efficient. \n",
    "- Loading all documents into one big matrix as we have done in the exercises is not feasible (e.g. the virtual servers in CSC have only 3 GB of RAM). You need to load the documents in smaller chunks for the training. This shouldn't be a problem, as we are doing mini-batch training anyway, and thus we don't need to keep all the documents in memory. You can simply pass you current chunk of documents to `model.fit()` as it remembers the weights from the previous run.\n"
   ]
  },
  {
   "cell_type": "markdown",
   "metadata": {},
   "source": [
    "## Download the data"
   ]
  },
  {
   "cell_type": "code",
   "execution_count": 1,
   "metadata": {},
   "outputs": [
    {
     "name": "stderr",
     "output_type": "stream",
     "text": [
      "Using TensorFlow backend.\n"
     ]
    },
    {
     "name": "stdout",
     "output_type": "stream",
     "text": [
      "Downloading data from https://www.cs.helsinki.fi/u/jgpyykko/reuters.zip\n",
      "382607360/384224243 [============================>.] - ETA: 0s"
     ]
    },
    {
     "data": {
      "text/plain": [
       "'./train/reuters.zip'"
      ]
     },
     "execution_count": 1,
     "metadata": {},
     "output_type": "execute_result"
    }
   ],
   "source": [
    "from keras.utils.data_utils import get_file\n",
    "\n",
    "database_path = 'train/'\n",
    "\n",
    "dl_file='reuters.zip'\n",
    "dl_url='https://www.cs.helsinki.fi/u/jgpyykko/'\n",
    "get_file(dl_file, dl_url+dl_file, cache_dir='./', cache_subdir=database_path, extract=True)"
   ]
  },
  {
   "cell_type": "markdown",
   "metadata": {},
   "source": [
    "The above command downloads and extracts the data files into the `train` subdirectory.\n",
    "\n",
    "The files can be found in `train/`, and are named as `19970405.zip`, etc. You will have to manage the content of these zips to get the data. There is a readme which has links to further descriptions on the data.\n",
    "\n",
    "The class labels, or topics, can be found in the readme file called `train/codes.zip`.  The zip contains a file called \"topic_codes.txt\".  This file contains the special codes for the topics (about 130 of them), and the explanation - what each code means.  \n",
    "\n",
    "The XML document files contain the article's headline, the main body text, and the list of topic labels assigned to each article.  You will have to extract the topics of each article from the XML.  For example: \n",
    "&lt;code code=\"C18\"&gt; refers to the topic \"OWNERSHIP CHANGES\" (like a corporate buyout).\n",
    "\n",
    "You should pre-process the XML to extract the words from the article: the &lt;headline&gt; element and the &lt;text&gt;.  You should not need any other parts of the article."
   ]
  },
  {
   "cell_type": "markdown",
   "metadata": {},
   "source": [
    "## Preprocessing the data\n",
    "First we will parse the xml files. Let's first set paths and define some utility functions: "
   ]
  },
  {
   "cell_type": "code",
   "execution_count": 13,
   "metadata": {},
   "outputs": [
    {
     "name": "stdout",
     "output_type": "stream",
     "text": [
      "train/REUTERS_CORPUS_2/data/810900newsML.xml\n"
     ]
    }
   ],
   "source": [
    "import xml.etree.ElementTree as etree\n",
    "\n",
    "path_xml = 'train/REUTERS_CORPUS_2/data/'\n",
    "filename_xml = '810900newsML.xml'\n",
    "file_xml = path_xml + filename_xml\n",
    "print(file_xml)\n",
    "\n",
    "def strip_tag_name(t):\n",
    "    t = elem.tag\n",
    "    idx = k = t.rfind(\"}\")\n",
    "    if idx != -1:\n",
    "        t = t[idx + 1:]\n",
    "    return t\n"
   ]
  },
  {
   "cell_type": "code",
   "execution_count": 26,
   "metadata": {},
   "outputs": [
    {
     "name": "stdout",
     "output_type": "stream",
     "text": [
      "[6, 65, 8]\n"
     ]
    }
   ],
   "source": [
    "x = [6, 65]\n",
    "x.append(8)\n",
    "print(x)"
   ]
  },
  {
   "cell_type": "markdown",
   "metadata": {},
   "source": [
    "Then we can try to parse one file first: "
   ]
  },
  {
   "cell_type": "code",
   "execution_count": 47,
   "metadata": {},
   "outputs": [
    {
     "name": "stdout",
     "output_type": "stream",
     "text": [
      "\n",
      "\n",
      "tags:  ['GCAT', 'GVIO'] \n",
      "\n",
      "\n",
      "words:  ['Sri Lanka rebels attack government troops in north.', \"Heavy fighting erupted between government troops and Liberation Tigers of Tamil Eelam (LTTE) rebels in Sri Lanka's northern Wanni region late on Friday, military officials said on Saturday.\", \"They said the rebels had attacked the military's defensive positions just north of the government-held town of Vavuniya, some 220 km (135 miles) north of the capital Colombo.\", 'The military, which launched a major offensive in May, is battling rebels in the Wanni to open a strategic highway linking the northern Jaffna peninsula with the rest of the island.', \"The military officials said defences guarded by police and the navy had been breached but troops had linked up again after repulsing Friday's attack.\", 'Casualty figures and other details were not immediately available, but officials said troops were clearing the area.', 'An undisclosed number of wounded had been airlifted to Anuradhapura military base, some 50 km (31 miles) south of Vavuniya, officials said.', 'A Defence Ministry spokesman said in Colombo confirmed the attacks and said the situation was now under control.', 'Residents in Vavuniya said troops were shelling the affected area on Saturday morning.', '\"Shelling is still continuing and helicopters and air force planes are flying by,\" a resident said by phone from Vavuniya.', 'He said the fighting started at about 10.30 p.m. (1630 GMT Friday) and continued through most of the night.', \"The military's northward offensive has slowed since the LTTE launched two fierce counterattacks in June but the fighting has shown signs of escalating this week.\", \"Sri Lanka's Defence Ministry said on Friday that troops had clashed with a large number of LTTE rebels southwest of Nedunkeni town on Thursday.\", 'At least 50 guerrillas and 17 troops, including one officer, was killed in the gunbattle. Troops had called in helicopter gunships to engage the rebels, who fled northwards with their wounded, the statement said.', '\"Sri Lanka forces backed by heavy artillery and moving in battle-tanks and armoured vehicles had attempted a sudden push towards their goal of Puliyankulam, but LTTE forces hit back decisively,\" an LTTE statement said.', \"The LTTE have been fighting for a separate homeland for minority Tamils in Sri Lanka's north and east since 1983.\", 'The government says more than 50,000 people have been killed in the war. The LTTE say the toll is higher.'] \n",
      "\n",
      "\n",
      "Sri Lanka rebels attack government troops in north. \n",
      "\n",
      "Heavy fighting erupted between government troops and Liberation Tigers of Tamil Eelam (LTTE) rebels in Sri Lanka's northern Wanni region late on Friday, military officials said on Saturday. \n",
      "\n",
      "They said the rebels had attacked the military's defensive positions just north of the government-held town of Vavuniya, some 220 km (135 miles) north of the capital Colombo. \n",
      "\n",
      "The military, which launched a major offensive in May, is battling rebels in the Wanni to open a strategic highway linking the northern Jaffna peninsula with the rest of the island. \n",
      "\n",
      "The military officials said defences guarded by police and the navy had been breached but troops had linked up again after repulsing Friday's attack. \n",
      "\n",
      "Casualty figures and other details were not immediately available, but officials said troops were clearing the area. \n",
      "\n",
      "An undisclosed number of wounded had been airlifted to Anuradhapura military base, some 50 km (31 miles) south of Vavuniya, officials said. \n",
      "\n",
      "A Defence Ministry spokesman said in Colombo confirmed the attacks and said the situation was now under control. \n",
      "\n",
      "Residents in Vavuniya said troops were shelling the affected area on Saturday morning. \n",
      "\n",
      "\"Shelling is still continuing and helicopters and air force planes are flying by,\" a resident said by phone from Vavuniya. \n",
      "\n",
      "He said the fighting started at about 10.30 p.m. (1630 GMT Friday) and continued through most of the night. \n",
      "\n",
      "The military's northward offensive has slowed since the LTTE launched two fierce counterattacks in June but the fighting has shown signs of escalating this week. \n",
      "\n",
      "Sri Lanka's Defence Ministry said on Friday that troops had clashed with a large number of LTTE rebels southwest of Nedunkeni town on Thursday. \n",
      "\n",
      "At least 50 guerrillas and 17 troops, including one officer, was killed in the gunbattle. Troops had called in helicopter gunships to engage the rebels, who fled northwards with their wounded, the statement said. \n",
      "\n",
      "\"Sri Lanka forces backed by heavy artillery and moving in battle-tanks and armoured vehicles had attempted a sudden push towards their goal of Puliyankulam, but LTTE forces hit back decisively,\" an LTTE statement said. \n",
      "\n",
      "The LTTE have been fighting for a separate homeland for minority Tamils in Sri Lanka's north and east since 1983. \n",
      "\n",
      "The government says more than 50,000 people have been killed in the war. The LTTE say the toll is higher. \n",
      "\n"
     ]
    }
   ],
   "source": [
    "words = []\n",
    "tags = []\n",
    "read_tags = False\n",
    "for event, elem in etree.iterparse(file_xml, events=('start', 'end')):\n",
    "    tname = strip_tag_name(elem)\n",
    "    if event == 'start':\n",
    "        if tname == 'codes':\n",
    "            if elem.attrib['class'] == 'bip:topics:1.0':\n",
    "                read_tags = True\n",
    "        if tname == 'code':\n",
    "            if read_tags:\n",
    "                tags.append(elem.attrib['code'])\n",
    "    \n",
    "    if event == 'end':\n",
    "        if tname == 'headline':\n",
    "            words.append(elem.text)\n",
    "        if tname == 'p':\n",
    "            words.append(elem.text)\n",
    "    \n",
    "\n",
    "print('\\n\\ntags: ', tags, '\\n\\n')\n",
    "print('words: ', words, '\\n\\n')\n",
    "for i in range(len(words)):\n",
    "    print(words[i], '\\n')"
   ]
  },
  {
   "cell_type": "markdown",
   "metadata": {},
   "source": [
    "## Save your model\n",
    "\n",
    "Finally, save your best model to the competition and return it as an `h5` file. For example like this."
   ]
  },
  {
   "cell_type": "code",
   "execution_count": null,
   "metadata": {
    "collapsed": true
   },
   "outputs": [],
   "source": [
    "model.save('model.h5')"
   ]
  },
  {
   "cell_type": "markdown",
   "metadata": {},
   "source": [
    "The model file should now be visible in the \"Home\" screen of the jupyter notebooks interface.  There you should be able to select it and press \"download\".\n",
    "\n",
    "## Predict for test set\n",
    "\n",
    "You will be asked to return your predictions a separate test set.  These should be returned as a matrix with one row for each test article.  Each row contains a binary prediction for each label, 1 if it's present in the image, and 0 if not. The order of the labels is the order of the label (topic) codes.\n",
    "\n",
    "An example row could like like this if your system predicts the presense of the second and fourth topic:\n",
    "\n",
    "    0 1 0 1 0 0 0 0 0 0 0 0 0 0 ...\n",
    "    \n",
    "If you have the matrix prepared in `y` (e.g., by calling `y=model.predict(x_test)`) you can use the following function to save it to a text file."
   ]
  },
  {
   "cell_type": "code",
   "execution_count": null,
   "metadata": {
    "collapsed": true
   },
   "outputs": [],
   "source": [
    "np.savetxt('results.txt', y, fmt='%d')"
   ]
  }
 ],
 "metadata": {
  "kernelspec": {
   "display_name": "Python 3",
   "language": "python",
   "name": "python3"
  },
  "language_info": {
   "codemirror_mode": {
    "name": "ipython",
    "version": 3
   },
   "file_extension": ".py",
   "mimetype": "text/x-python",
   "name": "python",
   "nbconvert_exporter": "python",
   "pygments_lexer": "ipython3",
   "version": "3.6.3"
  }
 },
 "nbformat": 4,
 "nbformat_minor": 2
}
